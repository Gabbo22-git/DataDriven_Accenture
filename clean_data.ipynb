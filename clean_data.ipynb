{
 "cells": [
  {
   "cell_type": "code",
   "execution_count": null,
   "metadata": {},
   "outputs": [],
   "source": [
    "import pandas as pd"
   ]
  },
  {
   "cell_type": "code",
   "execution_count": null,
   "metadata": {},
   "outputs": [],
   "source": [
    "def clean_and_filter_dataset(df, borough_filter=\"Manhattan\", is_closed_filter=False):\n",
    "    # Rimuove righe con valori nulli\n",
    "    df_cleaned = df.dropna()\n",
    "    \n",
    "    # Rimuove colonne specificate\n",
    "    columns_to_drop = [\"alias\", \"image_url\", \"phone\", \"display_phone\"]\n",
    "    df_cleaned = df_cleaned.drop(columns=columns_to_drop, errors='ignore')\n",
    "    \n",
    "    # Filtra per borough specifico e stato di apertura\n",
    "    df_filtered = df_cleaned[\n",
    "        (df_cleaned[\"borough\"] == borough_filter) &\n",
    "        (df_cleaned[\"is_closed\"] == is_closed_filter)\n",
    "    ].copy()  # Crea una copia per evitare il warning\n",
    "    \n",
    "    # Mantiene solo valori unici nella colonna 'id'\n",
    "    df_filtered = df_filtered.drop_duplicates(subset='id')\n",
    "    \n",
    "    # Codifica della colonna 'price' in tre classi\n",
    "    price_mapping = {'$': 'Low', '$$': 'Medium', '$$$': 'High'}\n",
    "    df_filtered['price'] = df_filtered['price'].map(price_mapping).fillna('Unknown')\n",
    "    \n",
    "    # Rimuove le righe con 'Unknown' nella colonna 'price'\n",
    "    df_filtered = df_filtered[df_filtered['price'] != 'Unknown']\n",
    "    \n",
    "    return df_filtered\n",
    "\n",
    "file_path = '/Users/gabrielerizzo/Downloads/1y DSM/Data-Driven/Big project DDI/Scraped Data Set.csv'\n",
    "df = pd.read_csv(file_path, sep=\";\")\n",
    "\n",
    "df_cleaned_filtered = clean_and_filter_dataset(df)\n",
    "\n",
    "# Salva il dataset pulito e filtrato in un nuovo file CSV\n",
    "#output_file_path = '/Users/gabrielerizzo/Downloads/1y DSM/Data-Driven/Big project DDI/Scraped_Data_Cleaned_Filtered.csv'\n",
    "#df_cleaned_filtered.to_csv(output_file_path, index=False, sep=\";\")\n",
    "\n",
    "#print(f\"Il dataset pulito e filtrato è stato salvato in {output_file_path}\")\n"
   ]
  }
 ],
 "metadata": {
  "kernelspec": {
   "display_name": ".venv",
   "language": "python",
   "name": "python3"
  },
  "language_info": {
   "codemirror_mode": {
    "name": "ipython",
    "version": 3
   },
   "file_extension": ".py",
   "mimetype": "text/x-python",
   "name": "python",
   "nbconvert_exporter": "python",
   "pygments_lexer": "ipython3",
   "version": "3.13.0"
  }
 },
 "nbformat": 4,
 "nbformat_minor": 2
}
